{
 "cells": [
  {
   "cell_type": "code",
   "execution_count": 2,
   "id": "97b61e25",
   "metadata": {},
   "outputs": [],
   "source": [
    "import matplotlib.pyplot as plt\n",
    "import seaborn as sns\n",
    "import pandas as pd\n",
    "import numpy as np"
   ]
  },
  {
   "cell_type": "code",
   "execution_count": 3,
   "id": "d9d098d2",
   "metadata": {},
   "outputs": [],
   "source": [
    "actual = pd.read_csv('internship_train.csv')\n",
    "pred = pd.read_csv('internship_hidden_test.csv')"
   ]
  },
  {
   "cell_type": "code",
   "execution_count": 36,
   "id": "99d8da76",
   "metadata": {},
   "outputs": [
    {
     "data": {
      "text/plain": [
       "0     0\n",
       "1     0\n",
       "2     0\n",
       "3     0\n",
       "4     0\n",
       "5     0\n",
       "6     0\n",
       "7     0\n",
       "8     0\n",
       "9     0\n",
       "10    0\n",
       "11    0\n",
       "12    0\n",
       "13    0\n",
       "14    0\n",
       "15    0\n",
       "16    0\n",
       "17    0\n",
       "18    0\n",
       "19    0\n",
       "20    0\n",
       "21    0\n",
       "22    0\n",
       "23    0\n",
       "24    0\n",
       "25    0\n",
       "26    0\n",
       "27    0\n",
       "28    0\n",
       "29    0\n",
       "30    0\n",
       "31    0\n",
       "32    0\n",
       "33    0\n",
       "34    0\n",
       "35    0\n",
       "36    0\n",
       "37    0\n",
       "38    0\n",
       "39    0\n",
       "40    0\n",
       "41    0\n",
       "42    0\n",
       "43    0\n",
       "44    0\n",
       "45    0\n",
       "46    0\n",
       "47    0\n",
       "48    0\n",
       "49    0\n",
       "50    0\n",
       "51    0\n",
       "52    0\n",
       "dtype: int64"
      ]
     },
     "execution_count": 36,
     "metadata": {},
     "output_type": "execute_result"
    }
   ],
   "source": [
    "actual.isnull().sum()\n",
    "pred.isnull().sum()"
   ]
  },
  {
   "cell_type": "code",
   "execution_count": 33,
   "id": "56afac19",
   "metadata": {},
   "outputs": [],
   "source": [
    "X_train = actual.drop('target',axis = 1)\n",
    "y_train = actual['target']\n"
   ]
  },
  {
   "cell_type": "code",
   "execution_count": 5,
   "id": "7f8b1f1f",
   "metadata": {},
   "outputs": [],
   "source": [
    "from sklearn.linear_model import LinearRegression\n",
    "lr = LinearRegression()"
   ]
  },
  {
   "cell_type": "code",
   "execution_count": 6,
   "id": "3babced1",
   "metadata": {},
   "outputs": [],
   "source": [
    "model = lr.fit(X_train,y_train) #training the model"
   ]
  },
  {
   "cell_type": "code",
   "execution_count": 7,
   "id": "590e9646",
   "metadata": {},
   "outputs": [],
   "source": [
    "c = model.intercept_"
   ]
  },
  {
   "cell_type": "code",
   "execution_count": 8,
   "id": "8c83da30",
   "metadata": {},
   "outputs": [
    {
     "data": {
      "text/plain": [
       "49.282517019512845"
      ]
     },
     "execution_count": 8,
     "metadata": {},
     "output_type": "execute_result"
    }
   ],
   "source": [
    "c"
   ]
  },
  {
   "cell_type": "code",
   "execution_count": 9,
   "id": "5976008b",
   "metadata": {},
   "outputs": [
    {
     "data": {
      "text/plain": [
       "array([ 4.36061322e-04, -1.12481037e-03,  1.89191872e-04,  5.84160662e-04,\n",
       "       -2.73840884e-04, -4.14562002e-04,  1.43715436e-02,  1.23082188e+00,\n",
       "       -1.73138228e-01,  3.16932074e-04,  6.80974576e-04, -3.31550868e-04,\n",
       "        3.85163941e-04, -6.91027734e-03, -4.62518343e-03,  1.16632641e-02,\n",
       "       -5.26778932e-03,  1.94944891e-02,  7.02452895e-03,  9.96024389e-03,\n",
       "       -3.49452821e-03,  1.93446686e-02,  1.36760817e-03,  8.60322443e-03,\n",
       "        7.55314813e-03,  2.92681578e-02,  4.31263919e-02, -9.99962415e-03,\n",
       "        2.31601422e-02, -3.16334842e-02, -5.86887887e-03,  3.30948570e-02,\n",
       "        4.48214627e-03, -1.41444787e-02,  8.34719240e-03, -4.21754807e-02,\n",
       "        1.73499711e-02,  1.12897162e-02, -2.55620494e-02,  4.30455067e-02,\n",
       "       -4.93424066e-02, -2.63404640e-02, -1.96349737e-02,  3.02168721e-03,\n",
       "        2.11365186e-02, -5.69593703e-03,  8.28709875e-03,  1.44550241e-03,\n",
       "       -7.01976832e-03,  1.55593759e-02, -3.53878772e-02, -3.13070084e-02,\n",
       "       -7.95561505e-03])"
      ]
     },
     "execution_count": 9,
     "metadata": {},
     "output_type": "execute_result"
    }
   ],
   "source": [
    "n = model.coef_\n",
    "n"
   ]
  },
  {
   "cell_type": "code",
   "execution_count": 31,
   "id": "554b2e40",
   "metadata": {},
   "outputs": [
    {
     "name": "stdout",
     "output_type": "stream",
     "text": [
      "The model score is: 0.000631210379404723\n"
     ]
    }
   ],
   "source": [
    "# Test the model\n",
    "y_pred_train = lr.predict(X_train)\n",
    "y_pred_train\n",
    "print('The model score is:',  model.score(X_train,y_train))"
   ]
  },
  {
   "cell_type": "code",
   "execution_count": null,
   "id": "cb8366ce",
   "metadata": {},
   "outputs": [],
   "source": []
  },
  {
   "cell_type": "code",
   "execution_count": 19,
   "id": "bb100ee3",
   "metadata": {},
   "outputs": [
    {
     "data": {
      "text/plain": [
       "array([48.64961597, 51.23861561, 49.84939509, ..., 51.08310798,\n",
       "       50.27217454, 50.8549678 ])"
      ]
     },
     "execution_count": 19,
     "metadata": {},
     "output_type": "execute_result"
    }
   ],
   "source": [
    "#Make the predictions\n",
    "y_pred_test = lr.predict(pred)\n",
    "y_pred_test"
   ]
  },
  {
   "cell_type": "code",
   "execution_count": null,
   "id": "c2666d67",
   "metadata": {},
   "outputs": [],
   "source": []
  },
  {
   "cell_type": "code",
   "execution_count": 15,
   "id": "e81e4710",
   "metadata": {},
   "outputs": [
    {
     "data": {
      "text/plain": [
       "28.887960642821337"
      ]
     },
     "execution_count": 15,
     "metadata": {},
     "output_type": "execute_result"
    }
   ],
   "source": [
    "from sklearn.metrics import mean_squared_error\n",
    "rmse = np.sqrt(mean_squared_error(y_train,y_pred_train))\n",
    "rmse"
   ]
  },
  {
   "cell_type": "code",
   "execution_count": null,
   "id": "76d34d82",
   "metadata": {},
   "outputs": [],
   "source": [
    "# RandomForestRegretion"
   ]
  },
  {
   "cell_type": "code",
   "execution_count": 16,
   "id": "a97606c3",
   "metadata": {},
   "outputs": [
    {
     "data": {
      "text/plain": [
       "RandomForestRegressor()"
      ]
     },
     "execution_count": 16,
     "metadata": {},
     "output_type": "execute_result"
    }
   ],
   "source": [
    "from sklearn.ensemble import RandomForestRegressor\n",
    "model_2 = RandomForestRegressor()\n",
    "model_2.fit(X_train,y_train) #training the model"
   ]
  },
  {
   "cell_type": "code",
   "execution_count": 26,
   "id": "a3273a1f",
   "metadata": {},
   "outputs": [
    {
     "name": "stdout",
     "output_type": "stream",
     "text": [
      "The model score is: 0.9999999982957564\n"
     ]
    }
   ],
   "source": [
    "# Test the model\n",
    "predictions = model_2.predict(X_train)\n",
    "predictions\n",
    "print('The model score is:',  model_2.score(X_train,y_train))\n",
    "\n",
    "\n"
   ]
  },
  {
   "cell_type": "code",
   "execution_count": 30,
   "id": "1916c3ff",
   "metadata": {},
   "outputs": [
    {
     "data": {
      "text/plain": [
       "array([11.21726257, 79.70192307,  7.49467933, ..., 22.82639883,\n",
       "       16.50291746, 91.98592   ])"
      ]
     },
     "execution_count": 30,
     "metadata": {},
     "output_type": "execute_result"
    }
   ],
   "source": [
    "# Make the predictions\n",
    "prediction = model_2.predict(pred)\n",
    "prediction\n",
    "\n"
   ]
  },
  {
   "cell_type": "code",
   "execution_count": 32,
   "id": "80dfed36",
   "metadata": {},
   "outputs": [
    {
     "data": {
      "text/plain": [
       "0.0011929433695662599"
      ]
     },
     "execution_count": 32,
     "metadata": {},
     "output_type": "execute_result"
    }
   ],
   "source": [
    "rmse = np.sqrt(mean_squared_error(y_train,predictions))\n",
    "rmse"
   ]
  },
  {
   "cell_type": "code",
   "execution_count": null,
   "id": "0f5a165a",
   "metadata": {},
   "outputs": [],
   "source": []
  }
 ],
 "metadata": {
  "kernelspec": {
   "display_name": "Python 3 (ipykernel)",
   "language": "python",
   "name": "python3"
  },
  "language_info": {
   "codemirror_mode": {
    "name": "ipython",
    "version": 3
   },
   "file_extension": ".py",
   "mimetype": "text/x-python",
   "name": "python",
   "nbconvert_exporter": "python",
   "pygments_lexer": "ipython3",
   "version": "3.9.13"
  }
 },
 "nbformat": 4,
 "nbformat_minor": 5
}
