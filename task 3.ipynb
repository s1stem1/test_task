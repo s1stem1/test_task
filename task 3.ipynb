{
 "cells": [
  {
   "cell_type": "code",
   "execution_count": 82,
   "id": "a1c49265",
   "metadata": {},
   "outputs": [],
   "source": [
    "from sklearn.pipeline import make_pipeline\n",
    "from sklearn.compose import TransformedTargetRegressor\n",
    "from sklearn.preprocessing import StandardScaler\n",
    "from sklearn.linear_model import LinearRegression\n",
    "from sklearn.tree import DecisionTreeRegressor\n",
    "from xgboost import XGBRegressor\n",
    "from sklearn.model_selection import GridSearchCV\n",
    "from sklearn.metrics import mean_squared_error\n",
    "import pandas as pd\n",
    "import numpy as np"
   ]
  },
  {
   "cell_type": "code",
   "execution_count": 83,
   "id": "428999ee",
   "metadata": {},
   "outputs": [],
   "source": [
    "train_df = pd.read_csv('internship_train.csv')"
   ]
  },
  {
   "cell_type": "code",
   "execution_count": 84,
   "id": "8745b8c5",
   "metadata": {},
   "outputs": [],
   "source": [
    "X, y = train_test_split(train_df, test_size=0.2, random_state=42)"
   ]
  },
  {
   "cell_type": "code",
   "execution_count": 85,
   "id": "e5624903",
   "metadata": {},
   "outputs": [],
   "source": [
    "X_train = X.drop('target', axis=1)\n",
    "y_train = X['target']\n",
    "X_test = y.drop('target', axis=1)\n",
    "y_test = y['target']"
   ]
  },
  {
   "cell_type": "code",
   "execution_count": 86,
   "id": "5fbf27e9",
   "metadata": {},
   "outputs": [],
   "source": [
    "# Define the preprocessing pipeline\n",
    "preprocessor = make_pipeline(StandardScaler())"
   ]
  },
  {
   "cell_type": "code",
   "execution_count": 87,
   "id": "282b9517",
   "metadata": {},
   "outputs": [
    {
     "name": "stdout",
     "output_type": "stream",
     "text": [
      "Decision Tree RMSE: 0.007711964654001712\n",
      "XGBoost RMSE: 0.03632422895660555\n",
      "Linear Regression RMSE: 29.015412891101402\n"
     ]
    }
   ],
   "source": [
    "# Train and evaluate different models\n",
    "best_models = {}\n",
    "for name, model in models:\n",
    "    clf = make_pipeline(preprocessor, model)\n",
    "    clf.fit(X_train, y_train)\n",
    "    y_pred = clf.predict(X_test)\n",
    "    rmse = mean_squared_error(y_test, y_pred, squared=False)\n",
    "    print(f\"{name} RMSE: {rmse}\")"
   ]
  },
  {
   "cell_type": "code",
   "execution_count": 88,
   "id": "6e5a5c63",
   "metadata": {},
   "outputs": [],
   "source": [
    "if name == 'Decision Tree':\n",
    "        param_grid = {'decisiontreeregressor__max_depth': [None, 10, 20, 30],\n",
    "                      'decisiontreeregressor__min_samples_split': [2, 5, 10]}\n",
    "        grid_search = GridSearchCV(clf, param_grid, cv=5, scoring='neg_mean_squared_error', n_jobs=-1)\n",
    "        grid_search.fit(X_train, y_train)\n",
    "        best_model = grid_search.best_estimator_\n",
    "\n",
    "elif name == 'XGBoost':\n",
    "        param_grid = {'xgbregressor__n_estimators': [100, 500, 1000],\n",
    "                      'xgbregressor__learning_rate': [0.01, 0.1, 0.5]}\n",
    "        grid_search = GridSearchCV(clf, param_grid, cv=5, scoring='neg_mean_squared_error', n_jobs=-1)\n",
    "        grid_search.fit(X_train, y_train)\n",
    "        best_model = grid_search.best_estimator_\n",
    "\n",
    "elif name == 'Linear Regression':\n",
    "    model = make_pipeline(StandardScaler(with_mean=False), LinearRegression())\n",
    "    param_grid = {'linearregression__fit_intercept': [True, False]}\n",
    "    grid_search = GridSearchCV(model, param_grid, cv=5, scoring='neg_mean_squared_error', n_jobs=-1)\n",
    "    grid_search.fit(X_train, y_train)\n",
    "    best_model = grid_search.best_estimator_\n",
    "\n",
    "best_models[name] = best_model"
   ]
  },
  {
   "cell_type": "code",
   "execution_count": 89,
   "id": "58e02a7a",
   "metadata": {},
   "outputs": [],
   "source": [
    "for name, model in best_models.items():\n",
    "    model.fit(X_train, y_train)"
   ]
  },
  {
   "cell_type": "code",
   "execution_count": 90,
   "id": "acbff46d",
   "metadata": {},
   "outputs": [],
   "source": [
    "test_df = pd.read_csv('internship_hidden_test.csv')\n",
    "y_pred_test = model.predict(test_df)"
   ]
  },
  {
   "cell_type": "code",
   "execution_count": 91,
   "id": "5ce00fae",
   "metadata": {},
   "outputs": [],
   "source": [
    "predictions_df = pd.DataFrame({'target': y_pred_test})\n",
    "predictions_df.to_csv('internship_test_predictions.csv', index=False)"
   ]
  },
  {
   "cell_type": "code",
   "execution_count": null,
   "id": "24fa9732",
   "metadata": {},
   "outputs": [],
   "source": []
  }
 ],
 "metadata": {
  "kernelspec": {
   "display_name": "Python 3 (ipykernel)",
   "language": "python",
   "name": "python3"
  },
  "language_info": {
   "codemirror_mode": {
    "name": "ipython",
    "version": 3
   },
   "file_extension": ".py",
   "mimetype": "text/x-python",
   "name": "python",
   "nbconvert_exporter": "python",
   "pygments_lexer": "ipython3",
   "version": "3.9.13"
  }
 },
 "nbformat": 4,
 "nbformat_minor": 5
}
